{
 "cells": [
  {
   "cell_type": "markdown",
   "id": "75795d26",
   "metadata": {},
   "source": [
    "# Assignmnet 1\n",
    "\n",
    "Name - Aryaman Singh Rana \n",
    "\n",
    "Roll No. - 1910110093"
   ]
  },
  {
   "cell_type": "markdown",
   "id": "3f44d698",
   "metadata": {},
   "source": [
    "Problem Statement-\n",
    "\n",
    "My solution-"
   ]
  },
  {
   "cell_type": "markdown",
   "id": "10d5a4f5",
   "metadata": {},
   "source": [
    "### 1. Importing the necessary files-"
   ]
  },
  {
   "cell_type": "code",
   "execution_count": 36,
   "id": "8f541d00",
   "metadata": {},
   "outputs": [],
   "source": [
    "import pandas as pd\n",
    "import numpy as np\n",
    "\n",
    "import matplotlib.pyplot as plt\n",
    "\n",
    "from sklearn.model_selection import train_test_split # imported for spliting the Iris data into test and learning set\n",
    "\n",
    "from sklearn.naive_bayes import GaussianNB\n",
    "\n",
    "from sklearn.model_selection import GridSearchCV\n",
    "\n",
    "from sklearn.neighbors import KernelDensity"
   ]
  },
  {
   "cell_type": "markdown",
   "id": "8235f21b",
   "metadata": {},
   "source": [
    "### 2. Loading the Iris data set provided -"
   ]
  },
  {
   "cell_type": "code",
   "execution_count": 37,
   "id": "b9d5ff9a",
   "metadata": {},
   "outputs": [
    {
     "data": {
      "text/html": [
       "<div>\n",
       "<style scoped>\n",
       "    .dataframe tbody tr th:only-of-type {\n",
       "        vertical-align: middle;\n",
       "    }\n",
       "\n",
       "    .dataframe tbody tr th {\n",
       "        vertical-align: top;\n",
       "    }\n",
       "\n",
       "    .dataframe thead th {\n",
       "        text-align: right;\n",
       "    }\n",
       "</style>\n",
       "<table border=\"1\" class=\"dataframe\">\n",
       "  <thead>\n",
       "    <tr style=\"text-align: right;\">\n",
       "      <th></th>\n",
       "      <th>0</th>\n",
       "      <th>1</th>\n",
       "      <th>2</th>\n",
       "      <th>3</th>\n",
       "      <th>4</th>\n",
       "    </tr>\n",
       "  </thead>\n",
       "  <tbody>\n",
       "    <tr>\n",
       "      <th>0</th>\n",
       "      <td>5.1</td>\n",
       "      <td>3.5</td>\n",
       "      <td>1.4</td>\n",
       "      <td>0.2</td>\n",
       "      <td>Iris-setosa</td>\n",
       "    </tr>\n",
       "    <tr>\n",
       "      <th>1</th>\n",
       "      <td>4.9</td>\n",
       "      <td>3.0</td>\n",
       "      <td>1.4</td>\n",
       "      <td>0.2</td>\n",
       "      <td>Iris-setosa</td>\n",
       "    </tr>\n",
       "    <tr>\n",
       "      <th>2</th>\n",
       "      <td>4.7</td>\n",
       "      <td>3.2</td>\n",
       "      <td>1.3</td>\n",
       "      <td>0.2</td>\n",
       "      <td>Iris-setosa</td>\n",
       "    </tr>\n",
       "    <tr>\n",
       "      <th>3</th>\n",
       "      <td>4.6</td>\n",
       "      <td>3.1</td>\n",
       "      <td>1.5</td>\n",
       "      <td>0.2</td>\n",
       "      <td>Iris-setosa</td>\n",
       "    </tr>\n",
       "    <tr>\n",
       "      <th>4</th>\n",
       "      <td>5.0</td>\n",
       "      <td>3.6</td>\n",
       "      <td>1.4</td>\n",
       "      <td>0.2</td>\n",
       "      <td>Iris-setosa</td>\n",
       "    </tr>\n",
       "    <tr>\n",
       "      <th>5</th>\n",
       "      <td>5.4</td>\n",
       "      <td>3.9</td>\n",
       "      <td>1.7</td>\n",
       "      <td>0.4</td>\n",
       "      <td>Iris-setosa</td>\n",
       "    </tr>\n",
       "    <tr>\n",
       "      <th>6</th>\n",
       "      <td>4.6</td>\n",
       "      <td>3.4</td>\n",
       "      <td>1.4</td>\n",
       "      <td>0.3</td>\n",
       "      <td>Iris-setosa</td>\n",
       "    </tr>\n",
       "    <tr>\n",
       "      <th>7</th>\n",
       "      <td>5.0</td>\n",
       "      <td>3.4</td>\n",
       "      <td>1.5</td>\n",
       "      <td>0.2</td>\n",
       "      <td>Iris-setosa</td>\n",
       "    </tr>\n",
       "    <tr>\n",
       "      <th>8</th>\n",
       "      <td>4.4</td>\n",
       "      <td>2.9</td>\n",
       "      <td>1.4</td>\n",
       "      <td>0.2</td>\n",
       "      <td>Iris-setosa</td>\n",
       "    </tr>\n",
       "    <tr>\n",
       "      <th>9</th>\n",
       "      <td>4.9</td>\n",
       "      <td>3.1</td>\n",
       "      <td>1.5</td>\n",
       "      <td>0.1</td>\n",
       "      <td>Iris-setosa</td>\n",
       "    </tr>\n",
       "  </tbody>\n",
       "</table>\n",
       "</div>"
      ],
      "text/plain": [
       "     0    1    2    3            4\n",
       "0  5.1  3.5  1.4  0.2  Iris-setosa\n",
       "1  4.9  3.0  1.4  0.2  Iris-setosa\n",
       "2  4.7  3.2  1.3  0.2  Iris-setosa\n",
       "3  4.6  3.1  1.5  0.2  Iris-setosa\n",
       "4  5.0  3.6  1.4  0.2  Iris-setosa\n",
       "5  5.4  3.9  1.7  0.4  Iris-setosa\n",
       "6  4.6  3.4  1.4  0.3  Iris-setosa\n",
       "7  5.0  3.4  1.5  0.2  Iris-setosa\n",
       "8  4.4  2.9  1.4  0.2  Iris-setosa\n",
       "9  4.9  3.1  1.5  0.1  Iris-setosa"
      ]
     },
     "execution_count": 37,
     "metadata": {},
     "output_type": "execute_result"
    }
   ],
   "source": [
    "dataSet = pd.read_csv('iris.data',header=None)\n",
    "dataSet.head(10)"
   ]
  },
  {
   "cell_type": "markdown",
   "id": "d919ff9c",
   "metadata": {},
   "source": [
    "#### 2.1 Checking the data set provided -"
   ]
  },
  {
   "cell_type": "code",
   "execution_count": 38,
   "id": "c785d113",
   "metadata": {},
   "outputs": [
    {
     "data": {
      "text/plain": [
       "4\n",
       "Iris-setosa        50\n",
       "Iris-versicolor    50\n",
       "Iris-virginica     50\n",
       "dtype: int64"
      ]
     },
     "execution_count": 38,
     "metadata": {},
     "output_type": "execute_result"
    }
   ],
   "source": [
    " dataSet.groupby(4).size()"
   ]
  },
  {
   "cell_type": "markdown",
   "id": "5bae0fb3",
   "metadata": {},
   "source": [
    "We see that the given 3 class are equal in number.\n",
    "\n",
    "---"
   ]
  },
  {
   "cell_type": "markdown",
   "id": "c1b873d9",
   "metadata": {},
   "source": [
    "### 3.0 Seperating the data into independent varible and dependent variables"
   ]
  },
  {
   "cell_type": "code",
   "execution_count": 39,
   "id": "dc14f4b9",
   "metadata": {},
   "outputs": [],
   "source": [
    "# X being the dependent variable and y being the independent variable\n",
    "X = dataSet.iloc[:,:-1].values\n",
    "y = dataSet.iloc[:,-1].values"
   ]
  },
  {
   "cell_type": "markdown",
   "id": "5a731f12",
   "metadata": {},
   "source": [
    "#### 3.1 Spliting the data into training set and test set -\n",
    "\n",
    "|S No.|Training set|Test set|\n",
    "|---|---|---\n",
    "|1|80%|20%|\n",
    "|2|70%|30%|\n",
    "|3|60%|40%|"
   ]
  },
  {
   "cell_type": "code",
   "execution_count": 40,
   "id": "82366778",
   "metadata": {},
   "outputs": [],
   "source": [
    "X_train1, X_test1, y_train1, y_test1 = train_test_split(X,y, train_size = 0.8, test_size = 0.2)\n",
    "\n",
    "X_train2, X_test2, y_train2, y_test2 = train_test_split(X,y, train_size = 0.7, test_size = 0.3)\n",
    "\n",
    "X_train3, X_test3, y_train3, y_test3 = train_test_split(X,y, train_size = 0.6, test_size = 0.4)"
   ]
  },
  {
   "cell_type": "markdown",
   "id": "090edca6",
   "metadata": {},
   "source": [
    "### 4.0 "
   ]
  },
  {
   "cell_type": "markdown",
   "id": "ad114e18",
   "metadata": {},
   "source": [
    "Using GridSearchCV to find the bandwidth and exponential kernel"
   ]
  },
  {
   "cell_type": "code",
   "execution_count": 54,
   "id": "207f1519",
   "metadata": {},
   "outputs": [
    {
     "name": "stderr",
     "output_type": "stream",
     "text": [
      "C:\\Users\\wickedbaba\\anaconda3\\lib\\site-packages\\sklearn\\model_selection\\_search.py:922: UserWarning: One or more of the test scores are non-finite: [ -86.6142668           -inf          -inf  -46.11195184          -inf\n",
      "           nan  -59.71116975          -inf          -inf  -49.51255658\n",
      "          -inf           nan  -48.58488464          -inf          -inf\n",
      "  -55.53681221          -inf           nan  -46.72270222          -inf\n",
      "          -inf  -63.72784963          -inf           nan  -50.44957158\n",
      "          -inf          -inf  -73.77949518          -inf           nan\n",
      "  -57.87229244          -inf          -inf  -85.46717562          -inf\n",
      "           nan  -68.05501819          -inf          -inf  -98.60210521\n",
      "          -inf           nan  -80.48920425          -inf          -inf\n",
      " -113.00665673          -inf           nan  -94.84812251          -inf\n",
      "          -inf -128.50116854          -inf           nan -110.82603792\n",
      "  -67.45345249  -59.57746464 -144.90346958  -57.99854027           nan\n",
      " -128.05839921  -82.21195107  -70.60482113 -162.04994947  -68.32279336\n",
      "           nan -146.09017157  -98.63429325  -84.67124228 -179.8264811\n",
      "  -81.67413445           nan -164.5037901  -117.46873121 -100.82974124\n",
      " -198.18016648  -97.03607533           nan -183.22074948 -136.99640576\n",
      " -118.65807888 -217.10040323 -114.03719391           nan -202.51929346\n",
      " -156.43901903 -137.35563822 -236.58662673 -132.01678497           nan\n",
      " -222.66499319 -174.27314477 -156.01356929 -256.62502095 -150.28967721\n",
      "           nan -243.68286679 -192.29041302 -174.34693272 -277.18145139\n",
      " -168.51422838           nan -265.42382602 -212.92612809 -193.0967637\n",
      " -298.20546767 -187.06734213           nan -287.69400531 -236.09144281\n",
      " -213.56431218 -319.63804446 -206.88977077           nan -310.32494367\n",
      " -259.35967111 -235.27398897 -341.41860937 -227.77691762           nan]\n",
      "  warnings.warn(\n",
      "C:\\Users\\wickedbaba\\anaconda3\\lib\\site-packages\\sklearn\\model_selection\\_search.py:929: RuntimeWarning: invalid value encountered in subtract\n",
      "  array_stds = np.sqrt(np.average((array -\n"
     ]
    },
    {
     "name": "stdout",
     "output_type": "stream",
     "text": [
      "-------------------------\n"
     ]
    },
    {
     "name": "stderr",
     "output_type": "stream",
     "text": [
      "C:\\Users\\wickedbaba\\anaconda3\\lib\\site-packages\\sklearn\\model_selection\\_search.py:922: UserWarning: One or more of the test scores are non-finite: [ -85.36013145          -inf          -inf  -41.59630805          -inf\n",
      "           nan  -57.96506166          -inf          -inf  -44.2329464\n",
      "          -inf           nan  -45.90113429          -inf          -inf\n",
      "  -49.26435835          -inf           nan  -42.86847633          -inf\n",
      "          -inf  -56.27104752          -inf           nan  -45.32914517\n",
      "          -inf          -inf  -64.96511803          -inf           nan\n",
      "  -51.39090894          -inf          -inf  -75.13095305          -inf\n",
      "           nan  -60.06612136          -inf          -inf  -86.58762145\n",
      "          -inf           nan  -70.8377673           -inf          -inf\n",
      "  -99.16800795          -inf           nan  -83.37253425          -inf\n",
      "          -inf -112.70536947          -inf           nan  -97.35304902\n",
      "          -inf          -inf -127.03333078          -inf           nan\n",
      " -112.41750898  -72.28165856  -62.34727569 -142.00651758  -60.36993515\n",
      "           nan -128.1273471   -86.92449847  -74.51955336 -157.52742651\n",
      "  -71.87901548           nan -144.13615715 -103.45143159  -88.69553052\n",
      " -173.55384688  -85.33309801           nan -160.43700431 -120.33131578\n",
      " -104.27121426 -190.07960104 -100.18946108           nan -177.2850882\n",
      " -137.10230695 -120.60127191 -207.10547358 -115.89943149           nan\n",
      " -194.89108661 -152.04428876 -136.66879591 -224.61931551 -131.7132546\n",
      "           nan -213.26522642 -168.28729421 -152.52122385 -242.59059425\n",
      " -147.49600837           nan -232.27530391 -186.51341395 -169.07135037\n",
      " -260.9743741  -163.80232615           nan -251.75179103 -206.58001246\n",
      " -186.93237457 -279.71829568 -181.10590893           nan -271.54693606\n",
      " -226.93971223 -205.89841581 -298.76877863 -199.35411175           nan]\n",
      "  warnings.warn(\n",
      "C:\\Users\\wickedbaba\\anaconda3\\lib\\site-packages\\sklearn\\model_selection\\_search.py:929: RuntimeWarning: invalid value encountered in subtract\n",
      "  array_stds = np.sqrt(np.average((array -\n"
     ]
    },
    {
     "name": "stdout",
     "output_type": "stream",
     "text": [
      "-------------------------\n",
      "-------------------------\n",
      "{'bandwidth': 0.1, 'kernel': 'exponential'}\n",
      "{'bandwidth': 0.1, 'kernel': 'exponential'}\n",
      "{'bandwidth': 0.1, 'kernel': 'exponential'}\n"
     ]
    },
    {
     "name": "stderr",
     "output_type": "stream",
     "text": [
      "C:\\Users\\wickedbaba\\anaconda3\\lib\\site-packages\\sklearn\\model_selection\\_search.py:922: UserWarning: One or more of the test scores are non-finite: [ -80.31521278          -inf          -inf  -39.59690897          -inf\n",
      "           nan  -54.24961261          -inf          -inf  -41.5370323\n",
      "          -inf           nan  -42.93729805          -inf          -inf\n",
      "  -45.65350049          -inf           nan  -40.12703145          -inf\n",
      "          -inf  -51.49057476          -inf           nan  -42.2181845\n",
      "          -inf          -inf  -58.73906094          -inf           nan\n",
      "  -47.37062942          -inf          -inf  -67.18997945          -inf\n",
      "           nan  -54.60946797          -inf          -inf  -76.69316604\n",
      "          -inf           nan  -63.43212783          -inf          -inf\n",
      "  -87.12557495          -inf           nan  -73.64966107          -inf\n",
      "          -inf  -98.37138686          -inf           nan  -85.08276226\n",
      "  -55.04879589  -48.4391295  -110.31469003  -47.24974858           nan\n",
      "  -97.47977961  -64.51064761  -56.53808286 -122.84986828  -54.89426232\n",
      "           nan -110.55265787  -75.57056027  -66.11838172 -135.90215491\n",
      "  -64.06382046           nan -124.03001441  -89.45452592  -77.56324599\n",
      " -149.43605011  -74.95677876           nan -137.85249747 -103.36660419\n",
      "  -90.37090357 -163.44185715  -87.18257844           nan -152.19237708\n",
      " -117.05753657 -103.75991822 -177.91329127 -100.08904421           nan\n",
      " -167.20975234 -131.01305421 -117.5017529  -192.83239596 -113.4721894\n",
      "           nan -182.90563857 -144.35674774 -131.07517555 -208.16616338\n",
      " -126.90627474           nan -199.1625946  -160.03703912 -145.12958545\n",
      " -223.870501   -140.72873372           nan -215.8315634  -177.0685821\n",
      " -160.35026649 -239.896247   -155.45522636           nan -232.78241939\n",
      " -194.51975334 -176.55195725 -256.19428315 -171.02614701           nan]\n",
      "  warnings.warn(\n",
      "C:\\Users\\wickedbaba\\anaconda3\\lib\\site-packages\\sklearn\\model_selection\\_search.py:929: RuntimeWarning: invalid value encountered in subtract\n",
      "  array_stds = np.sqrt(np.average((array -\n"
     ]
    }
   ],
   "source": [
    "parameters = {'kernel':['gaussian','tophat','epanechnikov','exponential','linear','cosine'],'bandwidth' :np.logspace(-1,1,20)}\n",
    "\n",
    "# for ratio 80%-20%\n",
    "gsVar1 = GridSearchCV(KernelDensity(),parameters)\n",
    "gsVar1.fit(X_train1)\n",
    "dictionary1 = gsVar1.best_params_\n",
    "print(\"-------------------------\")\n",
    "\n",
    "# for ratio 70%-30%\n",
    "gsVar2 = GridSearchCV(KernelDensity(),parameters)\n",
    "gsVar2.fit(X_train2)\n",
    "dictionary2 = gsVar2.best_params_\n",
    "print(\"-------------------------\")\n",
    "\n",
    "# for ratio 60%-40%\n",
    "gsVar3 = GridSearchCV(KernelDensity(),parameters)\n",
    "gsVar3.fit(X_train3)\n",
    "dictionary3 = gsVar3.best_params_\n",
    "print(\"-------------------------\")\n",
    "\n",
    "print(dictionary1)\n",
    "print(dictionary2)\n",
    "print(dictionary3)"
   ]
  },
  {
   "cell_type": "markdown",
   "id": "f67875cd",
   "metadata": {},
   "source": [
    "#### 4.1 I take the given bandwidth and kernel value and use it to find the Kernel density on the train dataset"
   ]
  },
  {
   "cell_type": "code",
   "execution_count": 58,
   "id": "b91481da",
   "metadata": {},
   "outputs": [
    {
     "name": "stdout",
     "output_type": "stream",
     "text": [
      "[-25.10744036]\n",
      "[1.11925967]\n",
      "[-7.3653185]\n",
      "------------------\n",
      "[1.62027885]\n",
      "[-16.90454232]\n",
      "[-32.25644275]\n",
      "------------------\n",
      "[-20.75198134]\n",
      "[1.31046555]\n",
      "[-11.16845006]\n"
     ]
    }
   ],
   "source": [
    "labelArray = ['Iris-setosa','Iris-versicolor','Iris-virginica']\n",
    "kdArray1 = []\n",
    "kdArray2 = []\n",
    "kdArray3 = []\n",
    "\n",
    "for element in labelArray:\n",
    "    # for ratio 1\n",
    "    kd1 = KernelDensity(kernel = dictionary1['kernel'],bandwidth = dictionary1['bandwidth']).fit(X_train1[y_train1 == element])\n",
    "    kdArray1.append(kd1)\n",
    "    \n",
    "    # for ratio 2\n",
    "    kd2 = KernelDensity(kernel = dictionary2['kernel'],bandwidth = dictionary2['bandwidth']).fit(X_train2[y_train2 == element])\n",
    "    kdArray2.append(kd2)\n",
    "    \n",
    "    # for ratio 3\n",
    "    kd3 = KernelDensity(kernel = dictionary3['kernel'],bandwidth = dictionary3['bandwidth']).fit(X_train3[y_train3 == element])\n",
    "    kdArray3.append(kd3)\n",
    "\n",
    "# checking the score samples\n",
    "for element in kdArray1:\n",
    "    print(element.score_samples([X_train1[0]]))\n",
    "\n",
    "print('------------------')\n",
    "\n",
    "for element in kdArray2:\n",
    "    print(element.score_samples([X_train2[0]]))\n",
    "\n",
    "print('------------------')\n",
    "\n",
    "for element in kdArray3:\n",
    "    print(element.score_samples([X_train3[0]]))"
   ]
  },
  {
   "cell_type": "markdown",
   "id": "67ca226d",
   "metadata": {},
   "source": [
    "#### 4.2 Now I make a prediction matrix which will be used to compare with the testing data set "
   ]
  },
  {
   "cell_type": "code",
   "execution_count": 65,
   "id": "0a2da485",
   "metadata": {},
   "outputs": [
    {
     "name": "stdout",
     "output_type": "stream",
     "text": [
      "30\n",
      "45\n",
      "60\n"
     ]
    }
   ],
   "source": [
    "# for ratio 80%-20%\n",
    "prediction1 = []\n",
    "\n",
    "for i in range(len(X_test1)):\n",
    "    setosa = kdArray1[0].score_samples([X_test1[i]])\n",
    "    versi =  kdArray1[1].score_samples([X_test1[i]]) \n",
    "    virgi =  kdArray1[2].score_samples([X_test1[i]]) \n",
    "    \n",
    "    if(setosa > versi):\n",
    "        if(setosa > virgi):\n",
    "            prediction1.append(labelArray[0])\n",
    "            \n",
    "        else:\n",
    "            prediction1.append(labelArray[2])\n",
    "    else:\n",
    "        if(versi>virgi):\n",
    "            prediction1.append(labelArray[1])\n",
    "        else:\n",
    "            prediction1.append(labelArray[2])\n",
    "            \n",
    "\n",
    "# for ratio 70%-30%\n",
    "prediction2 = []\n",
    "\n",
    "for i in range(len(X_test2)):\n",
    "    setosa =  kdArray2[0].score_samples([X_test2[i]])\n",
    "    versi = kdArray2[1].score_samples([X_test2[i]]) \n",
    "    virgi = kdArray2[2].score_samples([X_test2[i]]) \n",
    "    \n",
    "    if(setosa > versi):\n",
    "        if(setosa > virgi):\n",
    "            prediction2.append(labelArray[0])\n",
    "            \n",
    "        else:\n",
    "            prediction2.append(labelArray[2])\n",
    "    else:\n",
    "        if(versi > virgi):\n",
    "            prediction2.append(labelArray[1])\n",
    "        else:\n",
    "            prediction2.append(labelArray[2])\n",
    "            \n",
    "            \n",
    "# for ratio 60%-40%\n",
    "prediction3 = []\n",
    "\n",
    "for i in range(len(X_test3)):\n",
    "    setosa = kdArray3[0].score_samples([X_test3[i]])\n",
    "    versi = kdArray3[1].score_samples([X_test3[i]]) \n",
    "    virgi = kdArray3[2].score_samples([X_test3[i]]) \n",
    "    \n",
    "    if(setosa > versi):\n",
    "        if(setosa > virgi):\n",
    "            prediction3.append(labelArray[0])\n",
    "            \n",
    "        else:\n",
    "            prediction3.append(labelArray[2])\n",
    "    else:\n",
    "        if(versi > virgi):\n",
    "            prediction3.append(labelArray[1])\n",
    "        else:\n",
    "            prediction3.append(labelArray[2])\n",
    "            \n",
    "print(len(prediction1))\n",
    "print(len(prediction2))\n",
    "print(len(prediction3))"
   ]
  },
  {
   "cell_type": "markdown",
   "id": "de05814d",
   "metadata": {},
   "source": [
    "The length confirms that the program is outputting the right ammount of labels required per every ratio fed to it.\n",
    "\n",
    "#### 4.3 Now I compare these prediciton matrix with y_test to find the accuracy"
   ]
  },
  {
   "cell_type": "code",
   "execution_count": 71,
   "id": "1fe6ffde",
   "metadata": {},
   "outputs": [
    {
     "name": "stdout",
     "output_type": "stream",
     "text": [
      "The Accuracy of ratio 80%-20% -  93.33333333333333 %\n",
      "The Accuracy of ratio 70%-30% -  97.77777777777777 %\n",
      "The Accuracy of ratio 60%-40% -  96.66666666666667 %\n",
      "\n",
      "Average Accuracy 95.92592592592592 %\n"
     ]
    }
   ],
   "source": [
    "negative1 = 0\n",
    "negative2 = 0\n",
    "negative3 = 0\n",
    "testLen1 = len(y_test1)\n",
    "testLen2 = len(y_test2)\n",
    "testLen3 = len(y_test3)\n",
    "\n",
    "for i in range(len(y_test1)):\n",
    "    if(prediction1[i] == y_test1[i]):\n",
    "        negative1+=1\n",
    "\n",
    "for i in range(len(y_test2)):\n",
    "    if(prediction2[i] == y_test2[i]):\n",
    "        negative2+=1\n",
    "\n",
    "for i in range(len(y_test3)):\n",
    "    if(prediction3[i] == y_test3[i]):\n",
    "        negative3+=1\n",
    "        \n",
    "\n",
    "accuracy1 = ((testLen1-negative1)/testLen1)*100\n",
    "accuracy1 = 100 - accuracy1\n",
    "print(\"The Accuracy of ratio 80%-20% - \",accuracy1 ,\"%\")\n",
    "\n",
    "accuracy2 = ((testLen2-negative2)/testLen2)*100\n",
    "accuracy2 = 100 - accuracy2\n",
    "print(\"The Accuracy of ratio 70%-30% - \",accuracy2 ,\"%\")\n",
    "\n",
    "accuracy3 = ((testLen3-negative3)/testLen3)*100\n",
    "accuracy3 = 100 - accuracy3\n",
    "print(\"The Accuracy of ratio 60%-40% - \",accuracy3 ,\"%\")\n",
    "\n",
    "print()\n",
    "average = (accuracy1 + accuracy2 + accuracy3 )/3\n",
    "print(\"Average Accuracy\",average,\"%\")"
   ]
  },
  {
   "cell_type": "code",
   "execution_count": null,
   "id": "9ae05a1c",
   "metadata": {},
   "outputs": [],
   "source": []
  }
 ],
 "metadata": {
  "kernelspec": {
   "display_name": "Python 3 (ipykernel)",
   "language": "python",
   "name": "python3"
  },
  "language_info": {
   "codemirror_mode": {
    "name": "ipython",
    "version": 3
   },
   "file_extension": ".py",
   "mimetype": "text/x-python",
   "name": "python",
   "nbconvert_exporter": "python",
   "pygments_lexer": "ipython3",
   "version": "3.9.7"
  }
 },
 "nbformat": 4,
 "nbformat_minor": 5
}
