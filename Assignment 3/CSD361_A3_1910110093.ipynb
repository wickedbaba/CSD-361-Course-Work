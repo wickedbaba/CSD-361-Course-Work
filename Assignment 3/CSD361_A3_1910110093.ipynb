{
  "cells": [
    {
      "cell_type": "markdown",
      "metadata": {
        "id": "RjH4u7ZX6UFn"
      },
      "source": [
        "# Assignment 3\n",
        "\n",
        "Name - Aryaman Singh Rana \n",
        "\n",
        "Roll No. - 1910110093\n",
        "\n"
      ]
    },
    {
      "cell_type": "code",
      "execution_count": 18,
      "metadata": {
        "id": "G9D9kVcE5Gt1"
      },
      "outputs": [],
      "source": [
        "import pandas as pd\n",
        "\n",
        "import numpy as np\n",
        "\n",
        "import matplotlib.pyplot as plt\n",
        "\n",
        "import random\n",
        "\n",
        "from pandas import DataFrame\n",
        "\n",
        "from sklearn import svm\n",
        "\n",
        "import sklearn.datasets\n",
        "\n",
        "from sklearn.metrics import accuracy_score\n",
        "\n",
        "from sklearn.datasets import make_classification\n",
        "\n",
        "from sklearn.datasets import make_blobs\n",
        "\n",
        "from sklearn.model_selection import train_test_split\n",
        "\n",
        "from sklearn.multiclass import OneVsRestClassifier\n",
        "\n",
        "from sklearn.multiclass import OneVsOneClassifier"
      ]
    },
    {
      "cell_type": "markdown",
      "metadata": {
        "id": "jNgxMc-66baL"
      },
      "source": [
        "### 1.0 Created a seperable and a non seperable datasets -\n",
        "#### 1.1 Seperable Datasets"
      ]
    },
    {
      "cell_type": "code",
      "execution_count": 68,
      "metadata": {
        "colab": {
          "base_uri": "https://localhost:8080/",
          "height": 279
        },
        "id": "l2Qve-l36ZD_",
        "outputId": "6e8c0ddf-7f3e-4dc3-951d-70e76b37d5a1"
      },
      "outputs": [
        {
          "output_type": "display_data",
          "data": {
            "text/plain": [
              "<Figure size 432x288 with 1 Axes>"
            ],
            "image/png": "[encoded data removed]"
          },
          "metadata": {
            "needs_background": "light"
          }
        }
      ],
      "source": [
        "# generated a seperable dataset using make_blobs\n",
        "sX , sy = make_blobs(n_samples=100, n_features=2,centers=2)\n",
        "\n",
        "# plotting the data produced \n",
        "df = DataFrame(dict(x=sX[:,0], y=sX[:,1], label=sy))\n",
        "colors = {0:'red', 1:'blue'}\n",
        "fig, ax = plt.subplots()\n",
        "grouped = df.groupby('label')\n",
        "for key, group in grouped:\n",
        "    group.plot(ax=ax, kind='scatter', x='x', y='y', label=key, color=colors[key])\n",
        "plt.show()\n"
      ]
    },
    {
      "cell_type": "markdown",
      "metadata": {
        "id": "XCutVkdT6nAA"
      },
      "source": [
        "#### 1.2 Non-Seperable Dataset"
      ]
    },
    {
      "cell_type": "code",
      "execution_count": 69,
      "metadata": {
        "colab": {
          "base_uri": "https://localhost:8080/",
          "height": 331
        },
        "id": "BYdNFdwM6gRe",
        "outputId": "a900ca05-e222-44b4-f171-59884149fe21"
      },
      "outputs": [
        {
          "output_type": "stream",
          "name": "stdout",
          "text": [
            "[1 1 1 0 1 0 1 0 1 1 1 0 0 0 1 1 0 0 1 0 1 1 0 1 1 1 1 1 1 1 0 1 0 0 0 1 0\n",
            " 0 0 1 0 1 0 0 1 1 1 0 1 1 0 0 0 1 1 1 0 0 0 1 0 0 0 0 0 0 0 1 0 0 0 1 1 0\n",
            " 0 1 1 0 0 0 1 1 0 0 1 0 1 1 1 0 1 1 1 0 1 1 0 1 0 0]\n"
          ]
        },
        {
          "output_type": "display_data",
          "data": {
            "text/plain": [
              "<Figure size 432x288 with 1 Axes>"
            ],
            "image/png": "[encoded data removed]"
          },
          "metadata": {
            "needs_background": "light"
          }
        }
      ],
      "source": [
        "# generated a seperable dataset using make_blobs\n",
        "nsX , nsy = make_blobs(n_samples=100, n_features=2,centers=2)\n",
        "\n",
        "\n",
        "# made it non seperable by using sir's method of just flipping random vectors labels opposite\n",
        "print(nsy)\n",
        "k = len(nsy)\n",
        "k = (int)(k*(20/100))\n",
        "\n",
        "for i in range(0,k):\n",
        "    if(nsy[i] == 0) :\n",
        "        nsy[i] =1\n",
        "    else :\n",
        "        nsy[i] = 0\n",
        "\n",
        "# plotting the data produced \n",
        "df = DataFrame(dict(x=nsX[:,0], y=nsX[:,1], label=nsy))\n",
        "colors = {0:'red', 1:'blue'}\n",
        "fig, ax = plt.subplots()\n",
        "grouped = df.groupby('label')\n",
        "for key, group in grouped:\n",
        "    group.plot(ax=ax, kind='scatter', x='x', y='y', label=key, color=colors[key])\n",
        "plt.show()"
      ]
    },
    {
      "cell_type": "markdown",
      "source": [
        "Spliting the seperable and non-seperable datasets"
      ],
      "metadata": {
        "id": "9n109NUOUHdB"
      }
    },
    {
      "cell_type": "code",
      "source": [
        "# Seperable dataset\n",
        "# Spliting the dataset\n",
        "sX_train, sX_test, sy_train, sy_test = train_test_split(sX, sy, test_size=0.30)\n",
        "\n",
        "# Non-Seperable dataset\n",
        "# Spliting the dataset\n",
        "nsX_train, nsX_test, nsy_train, nsy_test = train_test_split(nsX, nsy,test_size=0.30)"
      ],
      "metadata": {
        "id": "jQ9Kn2P2UG24"
      },
      "execution_count": 70,
      "outputs": []
    },
    {
      "cell_type": "markdown",
      "metadata": {
        "id": "DxSd7KjVOcb8"
      },
      "source": [
        "### A. Running C SVM with C=0\n",
        "\n",
        "I took the smallest possible value of C as SVM cannot take C='0'"
      ]
    },
    {
      "cell_type": "code",
      "execution_count": 71,
      "metadata": {
        "colab": {
          "base_uri": "https://localhost:8080/"
        },
        "id": "hGNHOhd96uqk",
        "outputId": "f071b220-868f-4a70-eaa5-04f280933f7d"
      },
      "outputs": [
        {
          "output_type": "stream",
          "name": "stdout",
          "text": [
            "Accuracy of SVM for seperable dataset\n",
            "96.66666666666667\n",
            "Accuracy of SVM for non-seperable dataset\n",
            "46.666666666666664\n"
          ]
        }
      ],
      "source": [
        "# Seperable dataset\n",
        "\n",
        "# Running the classifier\n",
        "c = 2**(-31)\n",
        "# print(c) \n",
        "\n",
        "svm_classifier = svm.SVC(kernel='linear',C=c).fit(sX_train, sy_train)\n",
        "\n",
        "# Training the Model\n",
        "svm_accuracy = svm_classifier.predict(sX_test)\n",
        "print(\"Accuracy of SVM for seperable dataset\")\n",
        "print(accuracy_score(sy_test,svm_accuracy)*100)\n",
        "\n",
        "# Non-Seperable dataset\n",
        "\n",
        "# Running the classifier\n",
        "svm_classifier = svm.SVC(kernel='linear',C=c).fit(nsX_train, nsy_train)\n",
        "\n",
        "# Training the Model\n",
        "n_svm_accuracy = svm_classifier.predict(nsX_test)\n",
        "print(\"Accuracy of SVM for non-seperable dataset\")\n",
        "print(accuracy_score(nsy_test,n_svm_accuracy)*100)"
      ]
    },
    {
      "cell_type": "markdown",
      "source": [
        "### B. Running C SVM with C = 3 , 15"
      ],
      "metadata": {
        "id": "d1rHuG4INXiX"
      }
    },
    {
      "cell_type": "code",
      "source": [
        "# For C  = 3\n",
        "# Seperable dataset\n",
        "svm_classifier = svm.SVC(kernel='linear',C=3).fit(sX_train, sy_train)\n",
        "\n",
        "svm_accuracy = svm_classifier.predict(sX_test)\n",
        "print(\"Accuracy of SVM for seperable dataset with C = 3\")\n",
        "print(accuracy_score(sy_test,svm_accuracy)*100)\n",
        "\n",
        "\n",
        "# Non-Seperable dataset\n",
        "svm_classifier = svm.SVC(kernel='linear',C=3).fit(nsX_train, nsy_train)\n",
        "\n",
        "n_svm_accuracy = svm_classifier.predict(nsX_test)\n",
        "print(\"Accuracy of SVM for non-seperable dataset with C = 3\")\n",
        "print(accuracy_score(nsy_test,n_svm_accuracy)*100)\n",
        "\n",
        "# For C  = 15\n",
        "# Seperable dataset\n",
        "svm_classifier = svm.SVC(kernel='linear',C=15).fit(sX_train, sy_train)\n",
        "\n",
        "svm_accuracy = svm_classifier.predict(sX_test)\n",
        "print(\"Accuracy of SVM for seperable dataset with C = 15\")\n",
        "print(accuracy_score(sy_test,svm_accuracy)*100)\n",
        "\n",
        "\n",
        "# Non-Seperable dataset\n",
        "svm_classifier = svm.SVC(kernel='linear',C=15).fit(nsX_train, nsy_train)\n",
        "\n",
        "n_svm_accuracy = svm_classifier.predict(nsX_test)\n",
        "print(\"Accuracy of SVM for non-seperable dataset with C = 15\")\n",
        "print(accuracy_score(nsy_test,n_svm_accuracy)*100)"
      ],
      "metadata": {
        "colab": {
          "base_uri": "https://localhost:8080/"
        },
        "id": "DqPK6rBeNxXP",
        "outputId": "5f68e72e-6f53-4ce4-d629-98aa1418ecb9"
      },
      "execution_count": 72,
      "outputs": [
        {
          "output_type": "stream",
          "name": "stdout",
          "text": [
            "Accuracy of SVM for seperable dataset with C = 3\n",
            "96.66666666666667\n",
            "Accuracy of SVM for non-seperable dataset with C = 3\n",
            "83.33333333333334\n",
            "Accuracy of SVM for seperable dataset with C = 15\n",
            "96.66666666666667\n",
            "Accuracy of SVM for non-seperable dataset with C = 15\n",
            "83.33333333333334\n"
          ]
        }
      ]
    },
    {
      "cell_type": "markdown",
      "source": [
        "### C. To tune the value of C to get the best possible result\n",
        "\n",
        "As I was getting 93.3% for seperable dataset which reamins the same for all values of C. Hence, I moved on to improving the accuracy for non-seperable dataset."
      ],
      "metadata": {
        "id": "W8dLlKWoOYiK"
      }
    },
    {
      "cell_type": "code",
      "source": [
        "for i in range(5,10000,1000):\n",
        "  svm_classifier = svm.SVC(kernel='linear',C=i).fit(nsX_train, nsy_train)\n",
        "  n_svm_accuracy = svm_classifier.predict(nsX_test)\n",
        "  print(\"For C = \" + str(i) +\", Accuracy of SVM = \" + str(accuracy_score(nsy_test,n_svm_accuracy)*100))"
      ],
      "metadata": {
        "colab": {
          "base_uri": "https://localhost:8080/"
        },
        "id": "GBSNnyzbQLmo",
        "outputId": "b8b9e3fd-bec1-471b-e91e-bfb3e3b7483b"
      },
      "execution_count": 73,
      "outputs": [
        {
          "output_type": "stream",
          "name": "stdout",
          "text": [
            "For C = 5, Accuracy of SVM = 83.33333333333334\n",
            "For C = 1005, Accuracy of SVM = 80.0\n",
            "For C = 2005, Accuracy of SVM = 80.0\n",
            "For C = 3005, Accuracy of SVM = 80.0\n",
            "For C = 4005, Accuracy of SVM = 80.0\n",
            "For C = 5005, Accuracy of SVM = 80.0\n",
            "For C = 6005, Accuracy of SVM = 80.0\n",
            "For C = 7005, Accuracy of SVM = 80.0\n",
            "For C = 8005, Accuracy of SVM = 80.0\n",
            "For C = 9005, Accuracy of SVM = 80.0\n"
          ]
        }
      ]
    },
    {
      "cell_type": "markdown",
      "source": [
        "I tested out the different values of C within the range of 1 to 10000. And the best accuracy I get is of 80%, but the previous value with C=5 has accuracy of 83.3% which is better."
      ],
      "metadata": {
        "id": "kQLf8EpLQNW6"
      }
    },
    {
      "cell_type": "markdown",
      "source": [
        "### D. Changing the kernel to -\n",
        "- polynomial kernel of size 2 and 3  \n",
        "- exponential kernel\n"
      ],
      "metadata": {
        "id": "v9qzUom7TWNd"
      }
    },
    {
      "cell_type": "code",
      "source": [
        "# For polynomial of size 2\n",
        "# Seperable dataset\n",
        "svm_classifier = svm.SVC(kernel='poly', degree = 2,C=3).fit(sX_train, sy_train)\n",
        "\n",
        "svm_accuracy = svm_classifier.predict(sX_test)\n",
        "print(\"Accuracy of SVM for seperable dataset with polynomial kernel of degree 2 = \")\n",
        "print(accuracy_score(sy_test,svm_accuracy)*100)\n",
        "\n",
        "\n",
        "# Non-Seperable dataset\n",
        "svm_classifier = svm.SVC(kernel='poly', degree = 2,C=3).fit(nsX_train, nsy_train)\n",
        "\n",
        "n_svm_accuracy = svm_classifier.predict(nsX_test)\n",
        "print(\"Accuracy of SVM for non-seperable dataset  with polynomial kernel of degree 2 = \")\n",
        "print(accuracy_score(nsy_test,n_svm_accuracy)*100)\n",
        "\n",
        "# For polynomial of size 3\n",
        "# Seperable dataset\n",
        "svm_classifier = svm.SVC(kernel='poly', degree = 3,C=3).fit(sX_train, sy_train)\n",
        "\n",
        "svm_accuracy = svm_classifier.predict(sX_test)\n",
        "print(\"Accuracy of SVM for seperable dataset with polynomial kernel of degree 3 = \")\n",
        "print(accuracy_score(sy_test,svm_accuracy)*100)\n",
        "\n",
        "\n",
        "# Non-Seperable dataset\n",
        "svm_classifier = svm.SVC(kernel='poly', degree = 3,C=3).fit(nsX_train, nsy_train)\n",
        "\n",
        "n_svm_accuracy = svm_classifier.predict(nsX_test)\n",
        "print(\"Accuracy of SVM for non-seperable dataset  with polynomial kernel of degree 3 = \")\n",
        "print(accuracy_score(nsy_test,n_svm_accuracy)*100)\n",
        "\n",
        "# For exponential kernel\n",
        "# Seperable dataset\n",
        "svm_classifier = svm.SVC(kernel='rbf', C=3).fit(sX_train, sy_train)\n",
        "\n",
        "svm_accuracy = svm_classifier.predict(sX_test)\n",
        "print(\"Accuracy of SVM for seperable dataset with exponential kernel =\")\n",
        "print(accuracy_score(sy_test,svm_accuracy)*100)\n",
        "\n",
        "\n",
        "# Non-Seperable dataset\n",
        "svm_classifier = svm.SVC(kernel='rbf', C=3).fit(nsX_train, nsy_train)\n",
        "\n",
        "n_svm_accuracy = svm_classifier.predict(nsX_test)\n",
        "print(\"Accuracy of SVM for non-seperable dataset  with exponential kernel = \")\n",
        "print(accuracy_score(nsy_test,n_svm_accuracy)*100)"
      ],
      "metadata": {
        "colab": {
          "base_uri": "https://localhost:8080/"
        },
        "id": "VT_ZfXOAQIDN",
        "outputId": "7ffedd57-d716-4283-9b32-a30b906bad41"
      },
      "execution_count": 74,
      "outputs": [
        {
          "output_type": "stream",
          "name": "stdout",
          "text": [
            "Accuracy of SVM for seperable dataset with polynomial kernel of degree 2 = \n",
            "96.66666666666667\n",
            "Accuracy of SVM for non-seperable dataset  with polynomial kernel of degree 2 = \n",
            "80.0\n",
            "Accuracy of SVM for seperable dataset with polynomial kernel of degree 3 = \n",
            "96.66666666666667\n",
            "Accuracy of SVM for non-seperable dataset  with polynomial kernel of degree 3 = \n",
            "76.66666666666667\n",
            "Accuracy of SVM for seperable dataset with exponential kernel =\n",
            "96.66666666666667\n",
            "Accuracy of SVM for non-seperable dataset  with exponential kernel = \n",
            "83.33333333333334\n"
          ]
        }
      ]
    },
    {
      "cell_type": "markdown",
      "source": [
        "### E. Using C-SVM in different modes -\n",
        "- One-versus-one mode\n",
        "- Ove-versus-rest mode\n",
        "\n",
        "Loading the dataset"
      ],
      "metadata": {
        "id": "y5rPVpLX8Nyi"
      }
    },
    {
      "cell_type": "code",
      "source": [
        "from sklearn.datasets import load_iris\n",
        "data = load_iris()"
      ],
      "metadata": {
        "id": "MdU5g_AHDEmL"
      },
      "execution_count": 75,
      "outputs": []
    },
    {
      "cell_type": "code",
      "source": [
        "#import our validation metrics\n",
        "#set our x, y (input and output)\n",
        "X, y = data.data, data.target\n",
        "\n",
        "#split our data into training and validation  (70% training, 30% validation)\n",
        "X_train,X_test, y_train, y_test=train_test_split(X, y,test_size=0.30)\n",
        "\n",
        "# One vs Rest Model\n",
        "ovr_model =  OneVsRestClassifier(svm.SVC( kernel = 'linear'))\n",
        "\n",
        "#trainng the model :\n",
        "ovr_model.fit(X_train, y_train)\n",
        "ovr_prediction = ovr_model.predict(X_test)\n",
        "\n",
        "print(\"Accuracy of SVM with One-V-rest = \")\n",
        "print(accuracy_score(y_test,ovr_prediction)*100)\n",
        "\n",
        "# One vs one Model\n",
        "ovo_model =  OneVsOneClassifier(svm.SVC( kernel = 'linear'))\n",
        "\n",
        "#trainng the model :\n",
        "ovo_model.fit(X_train, y_train)\n",
        "ova_prediction = ovo_model.predict(X_test)\n",
        "\n",
        "print(\"Accuracy of SVM with One-v-One = \")\n",
        "print(accuracy_score(y_test,ova_prediction)*100)\n"
      ],
      "metadata": {
        "colab": {
          "base_uri": "https://localhost:8080/"
        },
        "id": "3_a7Tngo8OfK",
        "outputId": "a0c30606-0b4c-4b24-a1f6-e279538f51e5"
      },
      "execution_count": 77,
      "outputs": [
        {
          "output_type": "stream",
          "name": "stdout",
          "text": [
            "Accuracy of SVM with One-V-rest = \n",
            "86.66666666666667\n",
            "Accuracy of SVM with One-v-One = \n",
            "97.77777777777777\n"
          ]
        }
      ]
    }
  ],
  "metadata": {
    "colab": {
      "collapsed_sections": [],
      "name": "CSD361_A3_1910110093.ipynb",
      "provenance": []
    },
    "kernelspec": {
      "display_name": "Python 3",
      "name": "python3"
    },
    "language_info": {
      "name": "python"
    }
  },
  "nbformat": 4,
  "nbformat_minor": 0
}